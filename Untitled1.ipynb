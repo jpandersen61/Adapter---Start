{
  "nbformat": 4,
  "nbformat_minor": 0,
  "metadata": {
    "colab": {
      "provenance": [],
      "authorship_tag": "ABX9TyNZDrFWMYwLv/OCR0s1kzdf",
      "include_colab_link": true
    },
    "kernelspec": {
      "name": "python3",
      "display_name": "Python 3"
    },
    "language_info": {
      "name": "python"
    }
  },
  "cells": [
    {
      "cell_type": "markdown",
      "metadata": {
        "id": "view-in-github",
        "colab_type": "text"
      },
      "source": [
        "<a href=\"https://colab.research.google.com/github/jpandersen61/Adapter---Start/blob/master/Untitled1.ipynb\" target=\"_parent\"><img src=\"https://colab.research.google.com/assets/colab-badge.svg\" alt=\"Open In Colab\"/></a>"
      ]
    },
    {
      "cell_type": "markdown",
      "source": [
        "# Initialization"
      ],
      "metadata": {
        "id": "7EVA_EldNO3Z"
      }
    },
    {
      "cell_type": "code",
      "execution_count": 1,
      "metadata": {
        "id": "TiDs-hUONDV-"
      },
      "outputs": [],
      "source": [
        "import numpy\n",
        "import pandas \n",
        "import matplotlib.pyplot as plt"
      ]
    },
    {
      "cell_type": "markdown",
      "source": [
        "# Assignment 2"
      ],
      "metadata": {
        "id": "JaxZCQjUNnmc"
      }
    },
    {
      "cell_type": "code",
      "source": [
        "print(\"Assignment 2\")\n",
        "list1 = [1, 2, 5]\n",
        "list2 = [2, 4, 6]\n",
        "xy = []\n",
        "for num1, num2 in zip(list1, list2):\n",
        "   xy.append(num1*num2)\n",
        "print(xy)"
      ],
      "metadata": {
        "colab": {
          "base_uri": "https://localhost:8080/"
        },
        "id": "SPWu98OQOBU5",
        "outputId": "511812cb-2c88-44e7-b6df-85a6cd5cc50e"
      },
      "execution_count": 3,
      "outputs": [
        {
          "output_type": "stream",
          "name": "stdout",
          "text": [
            "Assignment 2\n",
            "[2, 8, 30]\n"
          ]
        }
      ]
    },
    {
      "cell_type": "markdown",
      "source": [
        "# Assignment 3"
      ],
      "metadata": {
        "id": "b3SLdIGGOnyB"
      }
    },
    {
      "cell_type": "code",
      "source": [
        "print(\"Assignment 3\")\n",
        "def xySum_Prod(list1,list2):\n",
        "    result=0\n",
        "    for num1, num2 in zip(list1, list2):\n",
        "       ##result = result + (num1*num2)\n",
        "       result += (num1*num2)\n",
        "    return result\n",
        "\n",
        "print(xySum_Prod(list1, list2));"
      ],
      "metadata": {
        "colab": {
          "base_uri": "https://localhost:8080/"
        },
        "id": "mAlobx7eO8-o",
        "outputId": "c59acafb-2bfa-4f33-992b-01874ffa80da"
      },
      "execution_count": 4,
      "outputs": [
        {
          "output_type": "stream",
          "name": "stdout",
          "text": [
            "Assignment 3\n",
            "40\n"
          ]
        }
      ]
    },
    {
      "cell_type": "markdown",
      "source": [
        "# Assignment 4"
      ],
      "metadata": {
        "id": "x1KzbJKLPuaC"
      }
    },
    {
      "cell_type": "code",
      "source": [
        "print(\"Assignment 4\")\n",
        "def find_a(x,y):\n",
        "    n = len(x)\n",
        "    xSum = sum(x)\n",
        "    ySum = sum(y)\n",
        "    xySum = xySum_Prod(x,y)\n",
        "    x2Sum = xySum_Prod(x,x)\n",
        "    a = ((ySum * x2Sum) - (xSum*xySum))/(n*x2Sum - xSum*xSum)\n",
        "    return a\n",
        "a = find_a(list1,list2)\n",
        "print(f\"a: {a}\")"
      ],
      "metadata": {
        "colab": {
          "base_uri": "https://localhost:8080/"
        },
        "id": "ZHAB4mPUP7BT",
        "outputId": "d3dc946c-ceaf-48a1-a8ee-ff66d577210f"
      },
      "execution_count": 5,
      "outputs": [
        {
          "output_type": "stream",
          "name": "stdout",
          "text": [
            "Assignment 4\n",
            "a: 1.5384615384615385\n"
          ]
        }
      ]
    },
    {
      "cell_type": "markdown",
      "source": [
        "# Assigment 5"
      ],
      "metadata": {
        "id": "CdGb8ifaQYh6"
      }
    },
    {
      "cell_type": "code",
      "source": [
        "print(\"Assignment 5\")\n",
        "def find_b(x,y):\n",
        "    n = len(x)\n",
        "    xSum = sum(x)\n",
        "    ySum = sum(y)\n",
        "    xySum = xySum_Prod(x,y)\n",
        "    x2Sum = xySum_Prod(x,x)\n",
        "    b = (n*xySum - xSum*ySum)/(n*x2Sum - xSum**2)\n",
        "    return b\n",
        "b = find_b(list1,list2)\n",
        "print(f\"b: {b}\")"
      ],
      "metadata": {
        "colab": {
          "base_uri": "https://localhost:8080/"
        },
        "id": "djgQHuQSQrJB",
        "outputId": "8c57b94f-26a1-4374-97cb-f94c685908dc"
      },
      "execution_count": 6,
      "outputs": [
        {
          "output_type": "stream",
          "name": "stdout",
          "text": [
            "Assignment 5\n",
            "b: 0.9230769230769231\n"
          ]
        }
      ]
    },
    {
      "cell_type": "markdown",
      "source": [
        "# Assignment 6"
      ],
      "metadata": {
        "id": "6XWt3P5UQyPS"
      }
    },
    {
      "cell_type": "code",
      "source": [
        "print(\"Assignment 6\")\n",
        "#Cost per click of individual keywords\n",
        "x = [2.3, 2.1, 2.5, 4.5, 5.9, 4.1, 8.9]\n",
        "#Total amount of clicks per day\n",
        "y = [89.0, 63.0, 71.0, 70.0, 80.0, 89.0, 150.0]\n",
        "\n",
        "a2 = find_a(x,y)\n",
        "print(f\"a2: {a2}\")\n",
        "b2 = find_b(x,y)\n",
        "print(f\"b2: {b2}\")"
      ],
      "metadata": {
        "colab": {
          "base_uri": "https://localhost:8080/"
        },
        "id": "bu8WvekoQ_mx",
        "outputId": "062a661a-6812-4a8d-e85e-b50ddad25ec1"
      },
      "execution_count": 7,
      "outputs": [
        {
          "output_type": "stream",
          "name": "stdout",
          "text": [
            "Assignment 6\n",
            "a2: 44.918525007964305\n",
            "b2: 9.820802803440571\n"
          ]
        }
      ]
    },
    {
      "cell_type": "markdown",
      "source": [
        "# Assignment 7"
      ],
      "metadata": {
        "id": "Xf5GLm3VRsTq"
      }
    },
    {
      "cell_type": "code",
      "source": [
        "print(\"Assignment 7\")\n",
        "plt.axis([0, 10, 0, 200])\n",
        "plt.scatter(x, y)\n",
        "test_line = [(b2*item + a2) for item in [0, 10]]\n",
        "plt.plot([0, 10], test_line)"
      ],
      "metadata": {
        "colab": {
          "base_uri": "https://localhost:8080/",
          "height": 305
        },
        "id": "PabU58unR32i",
        "outputId": "c9f007ac-8dbc-4031-e21b-1f083d172f9d"
      },
      "execution_count": 8,
      "outputs": [
        {
          "output_type": "stream",
          "name": "stdout",
          "text": [
            "Assignment 7\n"
          ]
        },
        {
          "output_type": "execute_result",
          "data": {
            "text/plain": [
              "[<matplotlib.lines.Line2D at 0x7f5cada770d0>]"
            ]
          },
          "metadata": {},
          "execution_count": 8
        },
        {
          "output_type": "display_data",
          "data": {
            "text/plain": [
              "<Figure size 432x288 with 1 Axes>"
            ],
            "image/png": "[encoded data removed]"
          },
          "metadata": {
            "needs_background": "light"
          }
        }
      ]
    }
  ]
}